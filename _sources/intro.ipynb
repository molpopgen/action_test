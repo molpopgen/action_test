{
 "cells": [
  {
   "cell_type": "markdown",
   "id": "gothic-baseline",
   "metadata": {},
   "source": [
    "(intro)=\n",
    "\n",
    "# Intro"
   ]
  },
  {
   "cell_type": "code",
   "execution_count": 1,
   "id": "little-medicine",
   "metadata": {},
   "outputs": [
    {
     "name": "stdout",
     "output_type": "stream",
     "text": [
      "0.0.5\n"
     ]
    }
   ],
   "source": [
    "import action_test\n",
    "\n",
    "print(action_test.__version__)"
   ]
  }
 ],
 "metadata": {
  "jupytext": {
   "formats": "md:myst",
   "text_representation": {
    "extension": ".md",
    "format_name": "myst"
   }
  },
  "kernelspec": {
   "display_name": "Python 3",
   "language": "python",
   "name": "python3"
  },
  "language_info": {
   "codemirror_mode": {
    "name": "ipython",
    "version": 3
   },
   "file_extension": ".py",
   "mimetype": "text/x-python",
   "name": "python",
   "nbconvert_exporter": "python",
   "pygments_lexer": "ipython3",
   "version": "3.8.7"
  },
  "source_map": [
   11,
   17
  ]
 },
 "nbformat": 4,
 "nbformat_minor": 5
}